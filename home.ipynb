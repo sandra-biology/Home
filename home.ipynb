{
 "cells": [
  {
   "cell_type": "code",
   "execution_count": 1,
   "id": "9737782b-7b55-44d1-b6b2-5b36f547cbc4",
   "metadata": {},
   "outputs": [
    {
     "name": "stdout",
     "output_type": "stream",
     "text": [
      "hello world\n"
     ]
    }
   ],
   "source": [
    "print('hello world')"
   ]
  },
  {
   "cell_type": "code",
   "execution_count": 2,
   "id": "86c845a5-e779-4b64-bac0-5caaf1b309eb",
   "metadata": {},
   "outputs": [
    {
     "name": "stdout",
     "output_type": "stream",
     "text": [
      "Sashenka, Sashenka!\n"
     ]
    }
   ],
   "source": [
    "print(f'Sashenka, Sashenka!')"
   ]
  },
  {
   "cell_type": "code",
   "execution_count": 1,
   "id": "dc85d626-75b4-41eb-b7e5-4ef46c1fca9b",
   "metadata": {},
   "outputs": [
    {
     "name": "stdout",
     "output_type": "stream",
     "text": [
      "1.79\n"
     ]
    }
   ],
   "source": [
    "# checking that Biopython was installed correctly\n",
    "\n",
    "import Bio\n",
    "\n",
    "print(Bio.__version__)"
   ]
  },
  {
   "cell_type": "code",
   "execution_count": 6,
   "id": "805da936-a318-4df0-b6a2-b52649601656",
   "metadata": {},
   "outputs": [
    {
     "name": "stdout",
     "output_type": "stream",
     "text": [
      "not prime: 1061\n",
      "not prime: 3457\n"
     ]
    }
   ],
   "source": [
    "n = 3667877\n",
    "\n",
    "for i in range(2, n):\n",
    "    if n % i == 0:\n",
    "        print(f'not prime: {i}')"
   ]
  },
  {
   "cell_type": "code",
   "execution_count": 9,
   "id": "e87fdab9-8b4f-44f6-b934-47d12d0f97b7",
   "metadata": {},
   "outputs": [
    {
     "name": "stdout",
     "output_type": "stream",
     "text": [
      "prime: True\n"
     ]
    }
   ],
   "source": [
    "n = 3667877\n",
    "n = 1061\n",
    "\n",
    "prime = True\n",
    "for i in range(2, n):\n",
    "    if n % i == 0:\n",
    "        prime = False\n",
    "        print(f'not prime: {i}')\n",
    "\n",
    "print(f'prime: {prime}')    "
   ]
  },
  {
   "cell_type": "code",
   "execution_count": 10,
   "id": "dbf24b1d-e7f7-475b-8cdb-6cdafd6e28ce",
   "metadata": {},
   "outputs": [
    {
     "name": "stdout",
     "output_type": "stream",
     "text": [
      "prime: True\n"
     ]
    }
   ],
   "source": [
    "n = 3667877\n",
    "n = 1061\n",
    "n = 3457\n",
    "\n",
    "prime = True\n",
    "for i in range(2, n):\n",
    "    if n % i == 0:\n",
    "        prime = False\n",
    "        print(f'not prime: {i}')\n",
    "\n",
    "print(f'prime: {prime}')    "
   ]
  },
  {
   "cell_type": "code",
   "execution_count": 7,
   "id": "ea11051c-d7c3-4d1a-8789-675da4e485ab",
   "metadata": {},
   "outputs": [
    {
     "data": {
      "text/plain": [
       "3667877"
      ]
     },
     "execution_count": 7,
     "metadata": {},
     "output_type": "execute_result"
    }
   ],
   "source": [
    "1061 * 3457"
   ]
  },
  {
   "cell_type": "code",
   "execution_count": 11,
   "id": "81c4e825-d0b4-4310-bb37-540f698564e1",
   "metadata": {},
   "outputs": [
    {
     "data": {
      "text/plain": [
       "50000.04"
      ]
     },
     "execution_count": 11,
     "metadata": {},
     "output_type": "execute_result"
    }
   ],
   "source": [
    "4166.67 * 12"
   ]
  },
  {
   "cell_type": "markdown",
   "id": "ebb464b1-1cc0-4773-aebf-3fb5423ed504",
   "metadata": {},
   "source": [
    "# Include and exclude from list"
   ]
  },
  {
   "cell_type": "code",
   "execution_count": 5,
   "id": "cad2ff63-73a3-44ce-8410-ae62320ed569",
   "metadata": {},
   "outputs": [
    {
     "name": "stdout",
     "output_type": "stream",
     "text": [
      "lst: [1, 2, 3, 4, 10, 20, 30, 40]\n",
      "lst_exclude: [2, 3]\n"
     ]
    }
   ],
   "source": [
    "def manage_list(lst, lst_exclude):\n",
    "    print(f'lst: {lst}')\n",
    "    print(f'lst_exclude: {lst_exclude}')\n",
    "\n",
    "lst = [1, 2, 3, 4, 10, 20, 30, 40]\n",
    "lst_exclude = [2, 3]\n",
    "manage_list(lst, lst_exclude)"
   ]
  },
  {
   "cell_type": "code",
   "execution_count": 7,
   "id": "3b1abe84",
   "metadata": {},
   "outputs": [
    {
     "name": "stdout",
     "output_type": "stream",
     "text": [
      "x: 1\n",
      "x: 2\n",
      "  remove 2\n",
      "x: 4\n",
      "x: 10\n",
      "x: 20\n",
      "x: 30\n",
      "x: 40\n"
     ]
    },
    {
     "data": {
      "text/plain": [
       "[1, 3, 4, 10, 20, 30, 40]"
      ]
     },
     "execution_count": 7,
     "metadata": {},
     "output_type": "execute_result"
    }
   ],
   "source": [
    "def manage_list(lst, lst_exclude):\n",
    "    for x in lst:\n",
    "        print(f'x: {x}')\n",
    "        if x in lst_exclude:\n",
    "            print(f'  remove {x}')\n",
    "            lst.remove(x)\n",
    "    return lst\n",
    "\n",
    "lst = [1, 2, 3, 4, 10, 20, 30, 40]\n",
    "lst_exclude = [2, 3]\n",
    "\n",
    "manage_list(lst, lst_exclude)"
   ]
  },
  {
   "cell_type": "code",
   "execution_count": 10,
   "id": "7aba1f84",
   "metadata": {},
   "outputs": [
    {
     "name": "stdout",
     "output_type": "stream",
     "text": [
      "x: 2\n",
      "  remove 2\n",
      "x: 3\n",
      "  remove 3\n"
     ]
    },
    {
     "data": {
      "text/plain": [
       "[1, 4, 10, 20, 30, 40]"
      ]
     },
     "execution_count": 10,
     "metadata": {},
     "output_type": "execute_result"
    }
   ],
   "source": [
    "def manage_list(lst, lst_exclude):\n",
    "    for x in lst_exclude:\n",
    "        print(f'x: {x}')\n",
    "        if x in lst:\n",
    "            print(f'  remove {x}')\n",
    "            lst.remove(x)\n",
    "    return lst\n",
    "\n",
    "lst = [1, 2, 3, 4, 10, 20, 30, 40]\n",
    "lst_exclude = [2, 3]\n",
    "\n",
    "manage_list(lst, lst_exclude=lst_exclude)"
   ]
  },
  {
   "cell_type": "code",
   "execution_count": 12,
   "id": "f1096922",
   "metadata": {},
   "outputs": [
    {
     "name": "stdout",
     "output_type": "stream",
     "text": [
      "x: 2\n",
      "  exclude 2\n",
      "x: 3\n",
      "  exclude 3\n"
     ]
    },
    {
     "data": {
      "text/plain": [
       "[4, 10, 30]"
      ]
     },
     "execution_count": 12,
     "metadata": {},
     "output_type": "execute_result"
    }
   ],
   "source": [
    "def manage_list(lst, lst_include, lst_exclude):\n",
    "    \"\"\"\n",
    "    exclude elements found in lst_exclude\n",
    "    include only those elements that are presented in lst_include\n",
    "    \"\"\"\n",
    "    for x in lst_exclude:\n",
    "        print(f'x: {x}')\n",
    "        if x in lst:\n",
    "            print(f'  exclude {x}')\n",
    "            lst.remove(x)\n",
    "        \n",
    "    for x in lst:\n",
    "        if x not in lst_include:\n",
    "            lst.remove(x)\n",
    "    return lst\n",
    "\n",
    "lst = [1, 2, 3, 4, 10, 20, 30, 40]\n",
    "lst_include = [2, 3, 10, 50]  # NB: 50 is not in lst\n",
    "lst_exclude = [2, 3]\n",
    "\n",
    "manage_list(lst, lst_include, lst_exclude)"
   ]
  },
  {
   "cell_type": "code",
   "execution_count": 16,
   "id": "1b44f929",
   "metadata": {},
   "outputs": [
    {
     "name": "stdout",
     "output_type": "stream",
     "text": [
      "x: 3\n",
      "  exclude 3\n",
      "x: 4\n",
      "  exclude 4\n",
      "lst after exclude: [1, 2, 10, 20, 30, 40]\n"
     ]
    },
    {
     "data": {
      "text/plain": [
       "[2, 10]"
      ]
     },
     "execution_count": 16,
     "metadata": {},
     "output_type": "execute_result"
    }
   ],
   "source": [
    "def manage_list(lst, lst_include, lst_exclude):\n",
    "    \"\"\"\n",
    "    exclude elements found in lst_exclude\n",
    "    include only those elements that are presented in lst_include\n",
    "    \"\"\"\n",
    "    for x in lst_exclude:\n",
    "        print(f'x: {x}')\n",
    "        if x in lst:\n",
    "            print(f'  exclude {x}')\n",
    "            lst.remove(x)\n",
    "    \n",
    "    print(f'lst after exclude: {lst}')\n",
    "    \n",
    "    lst_tmp = []\n",
    "    for x in lst_include:\n",
    "        if x in lst:\n",
    "            lst_tmp.append(x)\n",
    "    \n",
    "    lst = lst_tmp\n",
    "    \n",
    "    return lst\n",
    "\n",
    "lst = [1, 2, 3, 4, 10, 20, 30, 40]\n",
    "lst_include = [2, 3, 10, 50]  # NB: 50 is not in lst\n",
    "lst_exclude = [3, 4]\n",
    "\n",
    "manage_list(lst, lst_include, lst_exclude)"
   ]
  },
  {
   "cell_type": "code",
   "execution_count": 18,
   "id": "01d393a5",
   "metadata": {},
   "outputs": [
    {
     "data": {
      "text/plain": [
       "[2, 4]"
      ]
     },
     "execution_count": 18,
     "metadata": {},
     "output_type": "execute_result"
    }
   ],
   "source": [
    "def f_filter(x):\n",
    "    \"\"\"\n",
    "    selects even numbers\n",
    "    \"\"\"\n",
    "    if x % 2:\n",
    "        return False\n",
    "    else:\n",
    "        return True\n",
    "\n",
    "list(filter(f_filter, [1, 2, 3, 4, 5]))  # without list filter returns a generator"
   ]
  },
  {
   "cell_type": "code",
   "execution_count": 20,
   "id": "fa7ab2d9",
   "metadata": {},
   "outputs": [
    {
     "data": {
      "text/plain": [
       "[2, 4]"
      ]
     },
     "execution_count": 20,
     "metadata": {},
     "output_type": "execute_result"
    }
   ],
   "source": [
    "# filter applies function (boolean) to each element of the list\n",
    "\n",
    "list(filter(lambda x: x % 2 == 0, [1, 2, 3, 4, 5]))"
   ]
  },
  {
   "cell_type": "code",
   "execution_count": 25,
   "id": "6fcb1c2b",
   "metadata": {},
   "outputs": [
    {
     "data": {
      "text/plain": [
       "[2, 3, 10]"
      ]
     },
     "execution_count": 25,
     "metadata": {},
     "output_type": "execute_result"
    }
   ],
   "source": [
    "lst = [1, 2, 3, 4, 10, 20, 30, 40]\n",
    "lst_include = [2, 3, 10, 50]  # NB: 50 is not in lst\n",
    "lst_exclude = [3, 4]\n",
    "\n",
    "list(filter(lambda x: x in lst_include, lst))"
   ]
  },
  {
   "cell_type": "code",
   "execution_count": 26,
   "id": "10e7583f",
   "metadata": {},
   "outputs": [
    {
     "data": {
      "text/plain": [
       "[1, 2, 10, 20, 30, 40]"
      ]
     },
     "execution_count": 26,
     "metadata": {},
     "output_type": "execute_result"
    }
   ],
   "source": [
    "lst = [1, 2, 3, 4, 10, 20, 30, 40]\n",
    "lst_include = [2, 3, 10, 50]  # NB: 50 is not in lst\n",
    "lst_exclude = [3, 4]\n",
    "\n",
    "list(filter(lambda x: x not in lst_exclude, lst))"
   ]
  },
  {
   "cell_type": "code",
   "execution_count": 26,
   "id": "c6ce9373",
   "metadata": {},
   "outputs": [
    {
     "data": {
      "text/plain": [
       "[1, 2, 10, 20, 30, 40]"
      ]
     },
     "execution_count": 26,
     "metadata": {},
     "output_type": "execute_result"
    }
   ],
   "source": [
    "lst = [1, 2, 3, 4, 10, 20, 30, 40]\n",
    "lst_include = [2, 3, 10, 50]  # NB: 50 is not in lst\n",
    "lst_exclude = [3, 4]\n",
    "\n",
    "lst = list(filter(lambda x: x not in lst_exclude, lst))"
   ]
  },
  {
   "cell_type": "code",
   "execution_count": 28,
   "id": "0a9eb2e8",
   "metadata": {},
   "outputs": [
    {
     "name": "stdout",
     "output_type": "stream",
     "text": [
      "[1, 2, 10, 20, 30, 40]\n",
      "[2, 10]\n"
     ]
    }
   ],
   "source": [
    "lst = [1, 2, 3, 4, 10, 20, 30, 40]\n",
    "lst_include = [2, 3, 10, 50]  # NB: 50 is not in lst\n",
    "lst_exclude = [3, 4]\n",
    "\n",
    "lst = list(filter(lambda x: x not in lst_exclude, lst))\n",
    "print(lst)\n",
    "lst = list(filter(lambda x: x in lst_include, lst))\n",
    "print(lst)"
   ]
  },
  {
   "cell_type": "markdown",
   "id": "cbd91aec",
   "metadata": {},
   "source": [
    "# Find"
   ]
  },
  {
   "cell_type": "code",
   "execution_count": 3,
   "id": "e190bed4",
   "metadata": {},
   "outputs": [
    {
     "name": "stdout",
     "output_type": "stream",
     "text": [
      "[1, 5, 10]\n"
     ]
    }
   ],
   "source": [
    "#.   0123456789 123456789 123456789\n",
    "s = 'abcd bcfe bc'\n",
    "p = 'bc'\n",
    "\n",
    "lst_index = []\n",
    "\n",
    "index = s.find(p)\n",
    "while index >= 0:\n",
    "    lst_index.append(index)\n",
    "    index = s.find(p, index+len(p))\n",
    "\n",
    "print(lst_index)"
   ]
  },
  {
   "cell_type": "code",
   "execution_count": 1,
   "id": "e190bed4",
   "metadata": {},
   "outputs": [
    {
     "name": "stdout",
     "output_type": "stream",
     "text": [
      "[1, 5, 10]\n",
      "Ok\n",
      "ok 2\n"
     ]
    }
   ],
   "source": [
    "#.   0123456789 123456789 123456789\n",
    "s = 'abcd bcfe bc'\n",
    "p = 'bc'\n",
    "\n",
    "lst_index = []\n",
    "\n",
    "index = s.find(p)\n",
    "while index >= 0:\n",
    "    lst_index.append(index)\n",
    "    index = s.find(p, index+len(p))\n",
    "\n",
    "print(lst_index)\n",
    "print('Ok')\n",
    "print('ok 2')"
   ]
  }
 ],
 "metadata": {
  "kernelspec": {
   "display_name": "Python 3.9.12 ('base')",
   "language": "python",
   "name": "python3"
  },
  "language_info": {
   "codemirror_mode": {
    "name": "ipython",
    "version": 3
   },
   "file_extension": ".py",
   "mimetype": "text/x-python",
   "name": "python",
   "nbconvert_exporter": "python",
   "pygments_lexer": "ipython3",
   "version": "3.9.12"
  },
  "vscode": {
   "interpreter": {
    "hash": "40d3a090f54c6569ab1632332b64b2c03c39dcf918b08424e98f38b5ae0af88f"
   }
  }
 },
 "nbformat": 4,
 "nbformat_minor": 5
}
